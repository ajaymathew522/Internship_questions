{
  "nbformat": 4,
  "nbformat_minor": 0,
  "metadata": {
    "colab": {
      "name": "Innovative Tech Lab.ipynb",
      "provenance": [],
      "authorship_tag": "ABX9TyP0CijTCOfEfgE1Y0n9fv7m",
      "include_colab_link": true
    },
    "kernelspec": {
      "name": "python3",
      "display_name": "Python 3"
    },
    "accelerator": "GPU"
  },
  "cells": [
    {
      "cell_type": "markdown",
      "metadata": {
        "id": "view-in-github",
        "colab_type": "text"
      },
      "source": [
        "<a href=\"https://colab.research.google.com/github/ajaymathew522/Internship_questions/blob/master/Innovative_Tech_Lab.ipynb\" target=\"_parent\"><img src=\"https://colab.research.google.com/assets/colab-badge.svg\" alt=\"Open In Colab\"/></a>"
      ]
    },
    {
      "cell_type": "markdown",
      "metadata": {
        "id": "5N7-fX7ITSHJ",
        "colab_type": "text"
      },
      "source": [
        "#Importing Libraries"
      ]
    },
    {
      "cell_type": "code",
      "metadata": {
        "id": "gyN1E4cR0J5T",
        "colab_type": "code",
        "colab": {}
      },
      "source": [
        "import pandas as pd\n",
        "import matplotlib.pyplot as plt\n",
        "from sklearn.cluster import KMeans\n"
      ],
      "execution_count": null,
      "outputs": []
    },
    {
      "cell_type": "markdown",
      "metadata": {
        "id": "3FGHyuw4TLRg",
        "colab_type": "text"
      },
      "source": [
        "#Used Octoparse to collect the data"
      ]
    },
    {
      "cell_type": "code",
      "metadata": {
        "id": "XMb5fpWY0vyq",
        "colab_type": "code",
        "colab": {
          "base_uri": "https://localhost:8080/",
          "height": 191
        },
        "outputId": "294bb0d0-fd7f-473a-b402-89f1aad06589"
      },
      "source": [
        "df = pd.read_csv('ExploreCrowdfundingC.csv', )\n",
        "df.head()"
      ],
      "execution_count": null,
      "outputs": [
        {
          "output_type": "execute_result",
          "data": {
            "text/html": [
              "<div>\n",
              "<style scoped>\n",
              "    .dataframe tbody tr th:only-of-type {\n",
              "        vertical-align: middle;\n",
              "    }\n",
              "\n",
              "    .dataframe tbody tr th {\n",
              "        vertical-align: top;\n",
              "    }\n",
              "\n",
              "    .dataframe thead th {\n",
              "        text-align: right;\n",
              "    }\n",
              "</style>\n",
              "<table border=\"1\" class=\"dataframe\">\n",
              "  <thead>\n",
              "    <tr style=\"text-align: right;\">\n",
              "      <th></th>\n",
              "      <th>Name</th>\n",
              "      <th>Raised</th>\n",
              "      <th>Currency</th>\n",
              "      <th>Percentage</th>\n",
              "      <th>Category</th>\n",
              "      <th>Status</th>\n",
              "    </tr>\n",
              "  </thead>\n",
              "  <tbody>\n",
              "    <tr>\n",
              "      <th>0</th>\n",
              "      <td>Bluetti AC200 - Most Versatile Solar Power Sta...</td>\n",
              "      <td>$4,456,386</td>\n",
              "      <td>USD raised</td>\n",
              "      <td>44564%</td>\n",
              "      <td>Energy &amp; Green Tech</td>\n",
              "      <td>12 days left</td>\n",
              "    </tr>\n",
              "    <tr>\n",
              "      <th>1</th>\n",
              "      <td>Stoggles : Stylish Protection For Your Eyes</td>\n",
              "      <td>$444,820</td>\n",
              "      <td>USD raised</td>\n",
              "      <td>8896%</td>\n",
              "      <td>Fashion &amp; Wearables</td>\n",
              "      <td>21 days left</td>\n",
              "    </tr>\n",
              "    <tr>\n",
              "      <th>2</th>\n",
              "      <td>BackOSage 8 in 1 Decompression Massage Belt</td>\n",
              "      <td>$12,359</td>\n",
              "      <td>USD raised</td>\n",
              "      <td>618%</td>\n",
              "      <td>Fashion &amp; Wearables</td>\n",
              "      <td>29 days left</td>\n",
              "    </tr>\n",
              "    <tr>\n",
              "      <th>3</th>\n",
              "      <td>Blocc : Face Shield Designed for Style and Com...</td>\n",
              "      <td>$641,835</td>\n",
              "      <td>USD raised</td>\n",
              "      <td>9811%</td>\n",
              "      <td>Fashion &amp; Wearables</td>\n",
              "      <td>InDemand</td>\n",
              "    </tr>\n",
              "    <tr>\n",
              "      <th>4</th>\n",
              "      <td>Move It Swift: Smart Boxing Gloves</td>\n",
              "      <td>$355,515</td>\n",
              "      <td>HKD raised</td>\n",
              "      <td>917%</td>\n",
              "      <td>Health &amp; Fitness</td>\n",
              "      <td>27 days left</td>\n",
              "    </tr>\n",
              "  </tbody>\n",
              "</table>\n",
              "</div>"
            ],
            "text/plain": [
              "                                                Name  ...        Status\n",
              "0  Bluetti AC200 - Most Versatile Solar Power Sta...  ...  12 days left\n",
              "1        Stoggles : Stylish Protection For Your Eyes  ...  21 days left\n",
              "2        BackOSage 8 in 1 Decompression Massage Belt  ...  29 days left\n",
              "3  Blocc : Face Shield Designed for Style and Com...  ...      InDemand\n",
              "4                 Move It Swift: Smart Boxing Gloves  ...  27 days left\n",
              "\n",
              "[5 rows x 6 columns]"
            ]
          },
          "metadata": {
            "tags": []
          },
          "execution_count": 2
        }
      ]
    },
    {
      "cell_type": "code",
      "metadata": {
        "id": "XfpXqv9e1jOJ",
        "colab_type": "code",
        "colab": {
          "base_uri": "https://localhost:8080/",
          "height": 33
        },
        "outputId": "a1f5f045-bb00-4508-8bd3-4b3167432436"
      },
      "source": [
        "df.shape"
      ],
      "execution_count": null,
      "outputs": [
        {
          "output_type": "execute_result",
          "data": {
            "text/plain": [
              "(252, 6)"
            ]
          },
          "metadata": {
            "tags": []
          },
          "execution_count": 3
        }
      ]
    },
    {
      "cell_type": "code",
      "metadata": {
        "id": "jZrXARGN2TP6",
        "colab_type": "code",
        "colab": {}
      },
      "source": [
        "df1 = df.copy()"
      ],
      "execution_count": null,
      "outputs": []
    },
    {
      "cell_type": "markdown",
      "metadata": {
        "id": "3PTIa_sATddZ",
        "colab_type": "text"
      },
      "source": [
        "#Removing currency symbols and commas"
      ]
    },
    {
      "cell_type": "code",
      "metadata": {
        "id": "IQ0tACES34o8",
        "colab_type": "code",
        "colab": {
          "base_uri": "https://localhost:8080/",
          "height": 191
        },
        "outputId": "39d1d913-ed34-4cb8-b9a6-25dbc7db545b"
      },
      "source": [
        "df1['Raised'] = df1['Raised'].str.replace(',','')\n",
        "df1['Raised'] = df1['Raised'].str.replace('$','')\n",
        "df1['Raised'] = df1['Raised'].str.replace('€','')\n",
        "df1['Raised'] = df1['Raised'].str.replace('£','')\n",
        "df1['Raised'] = df1['Raised'].str.replace('Fr ','')\n",
        "df1['Raised'] = df1['Raised'].str.replace('Kr','')\n",
        "df1.head()"
      ],
      "execution_count": null,
      "outputs": [
        {
          "output_type": "execute_result",
          "data": {
            "text/html": [
              "<div>\n",
              "<style scoped>\n",
              "    .dataframe tbody tr th:only-of-type {\n",
              "        vertical-align: middle;\n",
              "    }\n",
              "\n",
              "    .dataframe tbody tr th {\n",
              "        vertical-align: top;\n",
              "    }\n",
              "\n",
              "    .dataframe thead th {\n",
              "        text-align: right;\n",
              "    }\n",
              "</style>\n",
              "<table border=\"1\" class=\"dataframe\">\n",
              "  <thead>\n",
              "    <tr style=\"text-align: right;\">\n",
              "      <th></th>\n",
              "      <th>Name</th>\n",
              "      <th>Raised</th>\n",
              "      <th>Currency</th>\n",
              "      <th>Percentage</th>\n",
              "      <th>Category</th>\n",
              "      <th>Status</th>\n",
              "    </tr>\n",
              "  </thead>\n",
              "  <tbody>\n",
              "    <tr>\n",
              "      <th>0</th>\n",
              "      <td>Bluetti AC200 - Most Versatile Solar Power Sta...</td>\n",
              "      <td>4456386</td>\n",
              "      <td>USD raised</td>\n",
              "      <td>44564%</td>\n",
              "      <td>Energy &amp; Green Tech</td>\n",
              "      <td>12 days left</td>\n",
              "    </tr>\n",
              "    <tr>\n",
              "      <th>1</th>\n",
              "      <td>Stoggles : Stylish Protection For Your Eyes</td>\n",
              "      <td>444820</td>\n",
              "      <td>USD raised</td>\n",
              "      <td>8896%</td>\n",
              "      <td>Fashion &amp; Wearables</td>\n",
              "      <td>21 days left</td>\n",
              "    </tr>\n",
              "    <tr>\n",
              "      <th>2</th>\n",
              "      <td>BackOSage 8 in 1 Decompression Massage Belt</td>\n",
              "      <td>12359</td>\n",
              "      <td>USD raised</td>\n",
              "      <td>618%</td>\n",
              "      <td>Fashion &amp; Wearables</td>\n",
              "      <td>29 days left</td>\n",
              "    </tr>\n",
              "    <tr>\n",
              "      <th>3</th>\n",
              "      <td>Blocc : Face Shield Designed for Style and Com...</td>\n",
              "      <td>641835</td>\n",
              "      <td>USD raised</td>\n",
              "      <td>9811%</td>\n",
              "      <td>Fashion &amp; Wearables</td>\n",
              "      <td>InDemand</td>\n",
              "    </tr>\n",
              "    <tr>\n",
              "      <th>4</th>\n",
              "      <td>Move It Swift: Smart Boxing Gloves</td>\n",
              "      <td>355515</td>\n",
              "      <td>HKD raised</td>\n",
              "      <td>917%</td>\n",
              "      <td>Health &amp; Fitness</td>\n",
              "      <td>27 days left</td>\n",
              "    </tr>\n",
              "  </tbody>\n",
              "</table>\n",
              "</div>"
            ],
            "text/plain": [
              "                                                Name  ...        Status\n",
              "0  Bluetti AC200 - Most Versatile Solar Power Sta...  ...  12 days left\n",
              "1        Stoggles : Stylish Protection For Your Eyes  ...  21 days left\n",
              "2        BackOSage 8 in 1 Decompression Massage Belt  ...  29 days left\n",
              "3  Blocc : Face Shield Designed for Style and Com...  ...      InDemand\n",
              "4                 Move It Swift: Smart Boxing Gloves  ...  27 days left\n",
              "\n",
              "[5 rows x 6 columns]"
            ]
          },
          "metadata": {
            "tags": []
          },
          "execution_count": 5
        }
      ]
    },
    {
      "cell_type": "code",
      "metadata": {
        "id": "MY5rMjr-4Y9S",
        "colab_type": "code",
        "colab": {
          "base_uri": "https://localhost:8080/",
          "height": 228
        },
        "outputId": "b04f0c91-11db-401a-ea08-8047ae82ee18"
      },
      "source": [
        "df1.info()"
      ],
      "execution_count": null,
      "outputs": [
        {
          "output_type": "stream",
          "text": [
            "<class 'pandas.core.frame.DataFrame'>\n",
            "RangeIndex: 252 entries, 0 to 251\n",
            "Data columns (total 6 columns):\n",
            " #   Column      Non-Null Count  Dtype \n",
            "---  ------      --------------  ----- \n",
            " 0   Name        252 non-null    object\n",
            " 1   Raised      251 non-null    object\n",
            " 2   Currency    251 non-null    object\n",
            " 3   Percentage  251 non-null    object\n",
            " 4   Category    252 non-null    object\n",
            " 5   Status      252 non-null    object\n",
            "dtypes: object(6)\n",
            "memory usage: 11.9+ KB\n"
          ],
          "name": "stdout"
        }
      ]
    },
    {
      "cell_type": "markdown",
      "metadata": {
        "id": "0QOXyioRTne0",
        "colab_type": "text"
      },
      "source": [
        "#Removing the Percentage sign"
      ]
    },
    {
      "cell_type": "code",
      "metadata": {
        "id": "4FMhewpU4zGD",
        "colab_type": "code",
        "colab": {
          "base_uri": "https://localhost:8080/",
          "height": 191
        },
        "outputId": "d0b22ed8-e715-4b8e-8596-9bd34e1486a4"
      },
      "source": [
        "df1['Percentage'] = df1['Percentage'].str.replace('%','')\n",
        "df1.head()"
      ],
      "execution_count": null,
      "outputs": [
        {
          "output_type": "execute_result",
          "data": {
            "text/html": [
              "<div>\n",
              "<style scoped>\n",
              "    .dataframe tbody tr th:only-of-type {\n",
              "        vertical-align: middle;\n",
              "    }\n",
              "\n",
              "    .dataframe tbody tr th {\n",
              "        vertical-align: top;\n",
              "    }\n",
              "\n",
              "    .dataframe thead th {\n",
              "        text-align: right;\n",
              "    }\n",
              "</style>\n",
              "<table border=\"1\" class=\"dataframe\">\n",
              "  <thead>\n",
              "    <tr style=\"text-align: right;\">\n",
              "      <th></th>\n",
              "      <th>Name</th>\n",
              "      <th>Raised</th>\n",
              "      <th>Currency</th>\n",
              "      <th>Percentage</th>\n",
              "      <th>Category</th>\n",
              "      <th>Status</th>\n",
              "    </tr>\n",
              "  </thead>\n",
              "  <tbody>\n",
              "    <tr>\n",
              "      <th>0</th>\n",
              "      <td>Bluetti AC200 - Most Versatile Solar Power Sta...</td>\n",
              "      <td>4456386</td>\n",
              "      <td>USD raised</td>\n",
              "      <td>44564</td>\n",
              "      <td>Energy &amp; Green Tech</td>\n",
              "      <td>12 days left</td>\n",
              "    </tr>\n",
              "    <tr>\n",
              "      <th>1</th>\n",
              "      <td>Stoggles : Stylish Protection For Your Eyes</td>\n",
              "      <td>444820</td>\n",
              "      <td>USD raised</td>\n",
              "      <td>8896</td>\n",
              "      <td>Fashion &amp; Wearables</td>\n",
              "      <td>21 days left</td>\n",
              "    </tr>\n",
              "    <tr>\n",
              "      <th>2</th>\n",
              "      <td>BackOSage 8 in 1 Decompression Massage Belt</td>\n",
              "      <td>12359</td>\n",
              "      <td>USD raised</td>\n",
              "      <td>618</td>\n",
              "      <td>Fashion &amp; Wearables</td>\n",
              "      <td>29 days left</td>\n",
              "    </tr>\n",
              "    <tr>\n",
              "      <th>3</th>\n",
              "      <td>Blocc : Face Shield Designed for Style and Com...</td>\n",
              "      <td>641835</td>\n",
              "      <td>USD raised</td>\n",
              "      <td>9811</td>\n",
              "      <td>Fashion &amp; Wearables</td>\n",
              "      <td>InDemand</td>\n",
              "    </tr>\n",
              "    <tr>\n",
              "      <th>4</th>\n",
              "      <td>Move It Swift: Smart Boxing Gloves</td>\n",
              "      <td>355515</td>\n",
              "      <td>HKD raised</td>\n",
              "      <td>917</td>\n",
              "      <td>Health &amp; Fitness</td>\n",
              "      <td>27 days left</td>\n",
              "    </tr>\n",
              "  </tbody>\n",
              "</table>\n",
              "</div>"
            ],
            "text/plain": [
              "                                                Name  ...        Status\n",
              "0  Bluetti AC200 - Most Versatile Solar Power Sta...  ...  12 days left\n",
              "1        Stoggles : Stylish Protection For Your Eyes  ...  21 days left\n",
              "2        BackOSage 8 in 1 Decompression Massage Belt  ...  29 days left\n",
              "3  Blocc : Face Shield Designed for Style and Com...  ...      InDemand\n",
              "4                 Move It Swift: Smart Boxing Gloves  ...  27 days left\n",
              "\n",
              "[5 rows x 6 columns]"
            ]
          },
          "metadata": {
            "tags": []
          },
          "execution_count": 7
        }
      ]
    },
    {
      "cell_type": "code",
      "metadata": {
        "id": "16C4dlc56CzR",
        "colab_type": "code",
        "colab": {
          "base_uri": "https://localhost:8080/",
          "height": 33
        },
        "outputId": "5a25c8b5-d5f3-43a4-d9d4-4eaf3e7281cd"
      },
      "source": [
        "df1 = df1.drop(177)\n",
        "df1.shape"
      ],
      "execution_count": null,
      "outputs": [
        {
          "output_type": "execute_result",
          "data": {
            "text/plain": [
              "(251, 6)"
            ]
          },
          "metadata": {
            "tags": []
          },
          "execution_count": 8
        }
      ]
    },
    {
      "cell_type": "markdown",
      "metadata": {
        "id": "OsGFavLkTtF0",
        "colab_type": "text"
      },
      "source": [
        "#Converting the object types to int"
      ]
    },
    {
      "cell_type": "code",
      "metadata": {
        "id": "GZBx0IfsDJqN",
        "colab_type": "code",
        "colab": {
          "base_uri": "https://localhost:8080/",
          "height": 228
        },
        "outputId": "1a778af7-b8bd-4175-cefa-d3772df2d3db"
      },
      "source": [
        "df1['Percentage'] = df1['Percentage'].astype(str).astype(int)\n",
        "df1.info()"
      ],
      "execution_count": null,
      "outputs": [
        {
          "output_type": "stream",
          "text": [
            "<class 'pandas.core.frame.DataFrame'>\n",
            "Int64Index: 251 entries, 0 to 251\n",
            "Data columns (total 6 columns):\n",
            " #   Column      Non-Null Count  Dtype \n",
            "---  ------      --------------  ----- \n",
            " 0   Name        251 non-null    object\n",
            " 1   Raised      251 non-null    object\n",
            " 2   Currency    251 non-null    object\n",
            " 3   Percentage  251 non-null    int64 \n",
            " 4   Category    251 non-null    object\n",
            " 5   Status      251 non-null    object\n",
            "dtypes: int64(1), object(5)\n",
            "memory usage: 13.7+ KB\n"
          ],
          "name": "stdout"
        }
      ]
    },
    {
      "cell_type": "code",
      "metadata": {
        "id": "T5PcW3kI5dDS",
        "colab_type": "code",
        "colab": {
          "base_uri": "https://localhost:8080/",
          "height": 228
        },
        "outputId": "27e08738-fcb7-45d5-c384-6d9b8c284920"
      },
      "source": [
        "df1['Raised'] = df1['Raised'].astype(str).astype(int)\n",
        "df1.info()"
      ],
      "execution_count": null,
      "outputs": [
        {
          "output_type": "stream",
          "text": [
            "<class 'pandas.core.frame.DataFrame'>\n",
            "Int64Index: 251 entries, 0 to 251\n",
            "Data columns (total 6 columns):\n",
            " #   Column      Non-Null Count  Dtype \n",
            "---  ------      --------------  ----- \n",
            " 0   Name        251 non-null    object\n",
            " 1   Raised      251 non-null    int64 \n",
            " 2   Currency    251 non-null    object\n",
            " 3   Percentage  251 non-null    int64 \n",
            " 4   Category    251 non-null    object\n",
            " 5   Status      251 non-null    object\n",
            "dtypes: int64(2), object(4)\n",
            "memory usage: 13.7+ KB\n"
          ],
          "name": "stdout"
        }
      ]
    },
    {
      "cell_type": "markdown",
      "metadata": {
        "id": "ALdWJKbCTzno",
        "colab_type": "text"
      },
      "source": [
        "#Creating seperate dataframes according to status"
      ]
    },
    {
      "cell_type": "code",
      "metadata": {
        "id": "sEQzi2Af1CZp",
        "colab_type": "code",
        "colab": {
          "base_uri": "https://localhost:8080/",
          "height": 33
        },
        "outputId": "e6f16b64-02cf-41a4-9dc7-633c69c2e1cb"
      },
      "source": [
        "df_ended = df1[df1['Status']=='Ended']\n",
        "df_ended.shape"
      ],
      "execution_count": null,
      "outputs": [
        {
          "output_type": "execute_result",
          "data": {
            "text/plain": [
              "(25, 6)"
            ]
          },
          "metadata": {
            "tags": []
          },
          "execution_count": 11
        }
      ]
    },
    {
      "cell_type": "code",
      "metadata": {
        "id": "IlOZHGMQ1S2i",
        "colab_type": "code",
        "colab": {
          "base_uri": "https://localhost:8080/",
          "height": 33
        },
        "outputId": "ad1e99f0-0e63-4cfc-bd54-b7614529af98"
      },
      "source": [
        "df_indemand = df1[df1['Status'] == 'InDemand']\n",
        "df_indemand.shape"
      ],
      "execution_count": null,
      "outputs": [
        {
          "output_type": "execute_result",
          "data": {
            "text/plain": [
              "(99, 6)"
            ]
          },
          "metadata": {
            "tags": []
          },
          "execution_count": 12
        }
      ]
    },
    {
      "cell_type": "code",
      "metadata": {
        "id": "iehq26fJ1ljy",
        "colab_type": "code",
        "colab": {
          "base_uri": "https://localhost:8080/",
          "height": 33
        },
        "outputId": "a5aa02a3-cdf6-41c5-cf9b-6a0f23ac8f82"
      },
      "source": [
        "df_normal = df1[(df1['Status'] != 'Ended') & (df1['Status']!='InDemand')]\n",
        "df_normal.shape"
      ],
      "execution_count": null,
      "outputs": [
        {
          "output_type": "execute_result",
          "data": {
            "text/plain": [
              "(127, 6)"
            ]
          },
          "metadata": {
            "tags": []
          },
          "execution_count": 13
        }
      ]
    },
    {
      "cell_type": "code",
      "metadata": {
        "id": "JB9IzOSW2Czy",
        "colab_type": "code",
        "colab": {
          "base_uri": "https://localhost:8080/",
          "height": 191
        },
        "outputId": "d32f643b-8456-4441-ac1d-fb96f523f468"
      },
      "source": [
        "df_normal.head()"
      ],
      "execution_count": null,
      "outputs": [
        {
          "output_type": "execute_result",
          "data": {
            "text/html": [
              "<div>\n",
              "<style scoped>\n",
              "    .dataframe tbody tr th:only-of-type {\n",
              "        vertical-align: middle;\n",
              "    }\n",
              "\n",
              "    .dataframe tbody tr th {\n",
              "        vertical-align: top;\n",
              "    }\n",
              "\n",
              "    .dataframe thead th {\n",
              "        text-align: right;\n",
              "    }\n",
              "</style>\n",
              "<table border=\"1\" class=\"dataframe\">\n",
              "  <thead>\n",
              "    <tr style=\"text-align: right;\">\n",
              "      <th></th>\n",
              "      <th>Name</th>\n",
              "      <th>Raised</th>\n",
              "      <th>Currency</th>\n",
              "      <th>Percentage</th>\n",
              "      <th>Category</th>\n",
              "      <th>Status</th>\n",
              "    </tr>\n",
              "  </thead>\n",
              "  <tbody>\n",
              "    <tr>\n",
              "      <th>0</th>\n",
              "      <td>Bluetti AC200 - Most Versatile Solar Power Sta...</td>\n",
              "      <td>4456386</td>\n",
              "      <td>USD raised</td>\n",
              "      <td>44564</td>\n",
              "      <td>Energy &amp; Green Tech</td>\n",
              "      <td>12 days left</td>\n",
              "    </tr>\n",
              "    <tr>\n",
              "      <th>1</th>\n",
              "      <td>Stoggles : Stylish Protection For Your Eyes</td>\n",
              "      <td>444820</td>\n",
              "      <td>USD raised</td>\n",
              "      <td>8896</td>\n",
              "      <td>Fashion &amp; Wearables</td>\n",
              "      <td>21 days left</td>\n",
              "    </tr>\n",
              "    <tr>\n",
              "      <th>2</th>\n",
              "      <td>BackOSage 8 in 1 Decompression Massage Belt</td>\n",
              "      <td>12359</td>\n",
              "      <td>USD raised</td>\n",
              "      <td>618</td>\n",
              "      <td>Fashion &amp; Wearables</td>\n",
              "      <td>29 days left</td>\n",
              "    </tr>\n",
              "    <tr>\n",
              "      <th>4</th>\n",
              "      <td>Move It Swift: Smart Boxing Gloves</td>\n",
              "      <td>355515</td>\n",
              "      <td>HKD raised</td>\n",
              "      <td>917</td>\n",
              "      <td>Health &amp; Fitness</td>\n",
              "      <td>27 days left</td>\n",
              "    </tr>\n",
              "    <tr>\n",
              "      <th>5</th>\n",
              "      <td>SIRUI 35mm Anamorphic Lens</td>\n",
              "      <td>1028860</td>\n",
              "      <td>USD raised</td>\n",
              "      <td>10289</td>\n",
              "      <td>Camera Gear</td>\n",
              "      <td>26 days left</td>\n",
              "    </tr>\n",
              "  </tbody>\n",
              "</table>\n",
              "</div>"
            ],
            "text/plain": [
              "                                                Name  ...        Status\n",
              "0  Bluetti AC200 - Most Versatile Solar Power Sta...  ...  12 days left\n",
              "1        Stoggles : Stylish Protection For Your Eyes  ...  21 days left\n",
              "2        BackOSage 8 in 1 Decompression Massage Belt  ...  29 days left\n",
              "4                 Move It Swift: Smart Boxing Gloves  ...  27 days left\n",
              "5                         SIRUI 35mm Anamorphic Lens  ...  26 days left\n",
              "\n",
              "[5 rows x 6 columns]"
            ]
          },
          "metadata": {
            "tags": []
          },
          "execution_count": 14
        }
      ]
    },
    {
      "cell_type": "code",
      "metadata": {
        "id": "CSinaB_hH79y",
        "colab_type": "code",
        "colab": {}
      },
      "source": [
        "from sklearn.preprocessing import StandardScaler\n"
      ],
      "execution_count": null,
      "outputs": []
    },
    {
      "cell_type": "markdown",
      "metadata": {
        "id": "ZQjlx13yT9ZR",
        "colab_type": "text"
      },
      "source": [
        "#We will only be using the normal dataframe for classification because the \"Ended\" ones cannot be invested into and \"In demand\" ones are already a good option"
      ]
    },
    {
      "cell_type": "code",
      "metadata": {
        "id": "VaSFaiCsH9H0",
        "colab_type": "code",
        "colab": {}
      },
      "source": [
        "X = StandardScaler().fit_transform(df_normal[['Raised','Percentage']])"
      ],
      "execution_count": null,
      "outputs": []
    },
    {
      "cell_type": "markdown",
      "metadata": {
        "id": "q2SMCNPoUZUJ",
        "colab_type": "text"
      },
      "source": [
        "#Using K means to classify the dataframe. We find 3 should be the number of clusters"
      ]
    },
    {
      "cell_type": "code",
      "metadata": {
        "id": "XzpQ-hxSGg5j",
        "colab_type": "code",
        "colab": {
          "base_uri": "https://localhost:8080/",
          "height": 278
        },
        "outputId": "a8036a0c-a5e0-47f5-fc6b-9c29441ad4d9"
      },
      "source": [
        "cost =[] \n",
        "for i in range(1, 11): \n",
        "    KM = KMeans(n_clusters = i, max_iter = 500) \n",
        "    KM.fit(X) \n",
        "    cost.append(KM.inertia_)      \n",
        "  \n",
        "\n",
        "plt.plot(range(1, 11), cost, color ='g', linewidth ='3') \n",
        "plt.xlabel(\"Value of K\") \n",
        "plt.ylabel(\"Sqaured Error (Cost)\") \n",
        "plt.show() \n",
        "  \n",
        "\n"
      ],
      "execution_count": null,
      "outputs": [
        {
          "output_type": "display_data",
          "data": {
            "image/png": "[encoded data removed]",
            "text/plain": [
              "<Figure size 432x288 with 1 Axes>"
            ]
          },
          "metadata": {
            "tags": [],
            "needs_background": "light"
          }
        }
      ]
    },
    {
      "cell_type": "code",
      "metadata": {
        "id": "68UOybzaIZaw",
        "colab_type": "code",
        "colab": {}
      },
      "source": [
        "k_means = KMeans(n_clusters=3)\n",
        "model = k_means.fit(X)\n",
        "model\n",
        "y_hat = k_means.predict(X)"
      ],
      "execution_count": null,
      "outputs": []
    },
    {
      "cell_type": "code",
      "metadata": {
        "id": "MsPDXISFLEo6",
        "colab_type": "code",
        "colab": {
          "base_uri": "https://localhost:8080/",
          "height": 33
        },
        "outputId": "bdc1b5c4-a615-4201-ea83-e003f3ce48f4"
      },
      "source": [
        "y_hat.shape"
      ],
      "execution_count": null,
      "outputs": [
        {
          "output_type": "execute_result",
          "data": {
            "text/plain": [
              "(127,)"
            ]
          },
          "metadata": {
            "tags": []
          },
          "execution_count": 19
        }
      ]
    },
    {
      "cell_type": "code",
      "metadata": {
        "id": "fiFb4QExMI5f",
        "colab_type": "code",
        "colab": {
          "base_uri": "https://localhost:8080/",
          "height": 33
        },
        "outputId": "8096b671-1272-4312-8715-4a2adbc46b26"
      },
      "source": [
        "df_normal.shape"
      ],
      "execution_count": null,
      "outputs": [
        {
          "output_type": "execute_result",
          "data": {
            "text/plain": [
              "(127, 6)"
            ]
          },
          "metadata": {
            "tags": []
          },
          "execution_count": 20
        }
      ]
    },
    {
      "cell_type": "code",
      "metadata": {
        "id": "PsyFbPvNNrpV",
        "colab_type": "code",
        "colab": {
          "base_uri": "https://localhost:8080/",
          "height": 191
        },
        "outputId": "82380f7d-baa0-46ea-a23a-61aa315bda6e"
      },
      "source": [
        "df2 = pd.DataFrame({'Cluster':y_hat})\n",
        "df2.head()"
      ],
      "execution_count": null,
      "outputs": [
        {
          "output_type": "execute_result",
          "data": {
            "text/html": [
              "<div>\n",
              "<style scoped>\n",
              "    .dataframe tbody tr th:only-of-type {\n",
              "        vertical-align: middle;\n",
              "    }\n",
              "\n",
              "    .dataframe tbody tr th {\n",
              "        vertical-align: top;\n",
              "    }\n",
              "\n",
              "    .dataframe thead th {\n",
              "        text-align: right;\n",
              "    }\n",
              "</style>\n",
              "<table border=\"1\" class=\"dataframe\">\n",
              "  <thead>\n",
              "    <tr style=\"text-align: right;\">\n",
              "      <th></th>\n",
              "      <th>Cluster</th>\n",
              "    </tr>\n",
              "  </thead>\n",
              "  <tbody>\n",
              "    <tr>\n",
              "      <th>0</th>\n",
              "      <td>1</td>\n",
              "    </tr>\n",
              "    <tr>\n",
              "      <th>1</th>\n",
              "      <td>0</td>\n",
              "    </tr>\n",
              "    <tr>\n",
              "      <th>2</th>\n",
              "      <td>0</td>\n",
              "    </tr>\n",
              "    <tr>\n",
              "      <th>3</th>\n",
              "      <td>0</td>\n",
              "    </tr>\n",
              "    <tr>\n",
              "      <th>4</th>\n",
              "      <td>0</td>\n",
              "    </tr>\n",
              "  </tbody>\n",
              "</table>\n",
              "</div>"
            ],
            "text/plain": [
              "   Cluster\n",
              "0        1\n",
              "1        0\n",
              "2        0\n",
              "3        0\n",
              "4        0"
            ]
          },
          "metadata": {
            "tags": []
          },
          "execution_count": 21
        }
      ]
    },
    {
      "cell_type": "code",
      "metadata": {
        "id": "edLYQxBwN823",
        "colab_type": "code",
        "colab": {}
      },
      "source": [
        "df3 = pd.merge(df_normal, df2, left_on=df_normal.index, right_on=df2.index)"
      ],
      "execution_count": null,
      "outputs": []
    },
    {
      "cell_type": "code",
      "metadata": {
        "id": "8MOZNKCqOvPh",
        "colab_type": "code",
        "colab": {
          "base_uri": "https://localhost:8080/",
          "height": 191
        },
        "outputId": "30ad58fd-0a09-4f37-f7b4-8b3a8a4e016b"
      },
      "source": [
        "df3.head()"
      ],
      "execution_count": null,
      "outputs": [
        {
          "output_type": "execute_result",
          "data": {
            "text/html": [
              "<div>\n",
              "<style scoped>\n",
              "    .dataframe tbody tr th:only-of-type {\n",
              "        vertical-align: middle;\n",
              "    }\n",
              "\n",
              "    .dataframe tbody tr th {\n",
              "        vertical-align: top;\n",
              "    }\n",
              "\n",
              "    .dataframe thead th {\n",
              "        text-align: right;\n",
              "    }\n",
              "</style>\n",
              "<table border=\"1\" class=\"dataframe\">\n",
              "  <thead>\n",
              "    <tr style=\"text-align: right;\">\n",
              "      <th></th>\n",
              "      <th>key_0</th>\n",
              "      <th>Name</th>\n",
              "      <th>Raised</th>\n",
              "      <th>Currency</th>\n",
              "      <th>Percentage</th>\n",
              "      <th>Category</th>\n",
              "      <th>Status</th>\n",
              "      <th>Cluster</th>\n",
              "    </tr>\n",
              "  </thead>\n",
              "  <tbody>\n",
              "    <tr>\n",
              "      <th>0</th>\n",
              "      <td>0</td>\n",
              "      <td>Bluetti AC200 - Most Versatile Solar Power Sta...</td>\n",
              "      <td>4456386</td>\n",
              "      <td>USD raised</td>\n",
              "      <td>44564</td>\n",
              "      <td>Energy &amp; Green Tech</td>\n",
              "      <td>12 days left</td>\n",
              "      <td>1</td>\n",
              "    </tr>\n",
              "    <tr>\n",
              "      <th>1</th>\n",
              "      <td>1</td>\n",
              "      <td>Stoggles : Stylish Protection For Your Eyes</td>\n",
              "      <td>444820</td>\n",
              "      <td>USD raised</td>\n",
              "      <td>8896</td>\n",
              "      <td>Fashion &amp; Wearables</td>\n",
              "      <td>21 days left</td>\n",
              "      <td>0</td>\n",
              "    </tr>\n",
              "    <tr>\n",
              "      <th>2</th>\n",
              "      <td>2</td>\n",
              "      <td>BackOSage 8 in 1 Decompression Massage Belt</td>\n",
              "      <td>12359</td>\n",
              "      <td>USD raised</td>\n",
              "      <td>618</td>\n",
              "      <td>Fashion &amp; Wearables</td>\n",
              "      <td>29 days left</td>\n",
              "      <td>0</td>\n",
              "    </tr>\n",
              "    <tr>\n",
              "      <th>3</th>\n",
              "      <td>4</td>\n",
              "      <td>Move It Swift: Smart Boxing Gloves</td>\n",
              "      <td>355515</td>\n",
              "      <td>HKD raised</td>\n",
              "      <td>917</td>\n",
              "      <td>Health &amp; Fitness</td>\n",
              "      <td>27 days left</td>\n",
              "      <td>0</td>\n",
              "    </tr>\n",
              "    <tr>\n",
              "      <th>4</th>\n",
              "      <td>5</td>\n",
              "      <td>SIRUI 35mm Anamorphic Lens</td>\n",
              "      <td>1028860</td>\n",
              "      <td>USD raised</td>\n",
              "      <td>10289</td>\n",
              "      <td>Camera Gear</td>\n",
              "      <td>26 days left</td>\n",
              "      <td>2</td>\n",
              "    </tr>\n",
              "  </tbody>\n",
              "</table>\n",
              "</div>"
            ],
            "text/plain": [
              "   key_0  ... Cluster\n",
              "0      0  ...       1\n",
              "1      1  ...       0\n",
              "2      2  ...       0\n",
              "3      4  ...       0\n",
              "4      5  ...       2\n",
              "\n",
              "[5 rows x 8 columns]"
            ]
          },
          "metadata": {
            "tags": []
          },
          "execution_count": 23
        }
      ]
    },
    {
      "cell_type": "markdown",
      "metadata": {
        "id": "6Mku6hjzUoHE",
        "colab_type": "text"
      },
      "source": [
        "There were severe power outages at home, so I couldn't give the best answer to the question."
      ]
    }
  ]
}