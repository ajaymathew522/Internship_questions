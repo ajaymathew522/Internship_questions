{
  "nbformat": 4,
  "nbformat_minor": 0,
  "metadata": {
    "colab": {
      "name": "Lannet Technologies ",
      "provenance": [],
      "authorship_tag": "ABX9TyO7YlIISxHMGUzLln4F7dMY",
      "include_colab_link": true
    },
    "kernelspec": {
      "name": "python3",
      "display_name": "Python 3"
    }
  },
  "cells": [
    {
      "cell_type": "markdown",
      "metadata": {
        "id": "view-in-github",
        "colab_type": "text"
      },
      "source": [
        "<a href=\"https://colab.research.google.com/github/ajaymathew522/Internship_questions/blob/master/Lannet_Technologies.ipynb\" target=\"_parent\"><img src=\"https://colab.research.google.com/assets/colab-badge.svg\" alt=\"Open In Colab\"/></a>"
      ]
    },
    {
      "cell_type": "code",
      "metadata": {
        "id": "nVdHL4VBHd92",
        "colab_type": "code",
        "colab": {}
      },
      "source": [
        "import pandas as pd\n"
      ],
      "execution_count": null,
      "outputs": []
    },
    {
      "cell_type": "markdown",
      "metadata": {
        "id": "9aMA21uoShuD",
        "colab_type": "text"
      },
      "source": [
        "<h2>1) Write a function in python that inputs a dataframe and identify which columns have date in them. Using these date columns make new columns which are difference between these columns taking 2 at a time. (for instance if there is date1, date2, date3 columns, output should be like date1-date2, date2-date3, date1-date3). For this problem only, print out data in the colab. \n"
      ]
    },
    {
      "cell_type": "code",
      "metadata": {
        "id": "PniuZWxHHs6u",
        "colab_type": "code",
        "colab": {}
      },
      "source": [
        "def datefunc(df):\n",
        "  indexes = [] #list to store indices of converted columns\n",
        "  for col in df.columns:\n",
        "      if df[col].dtype == 'object':\n",
        "          try:     #using try catch to convert columns to datetime if possible\n",
        "              df[col] = pd.to_datetime(df[col], infer_datetime_format=True, errors='coerce') \n",
        "              indexes.append(col) #appending index of converted column\n",
        "          except ValueError:\n",
        "              pass\n",
        "  for i in range(len(indexes)-1):\n",
        "    for j in range(i+1,len(indexes)):\n",
        "      df['{}-{}'.format(i,j)] = (df[indexes[i]] - df[indexes[j]]).dt.days #finding differrence between dates\n",
        "  return df"
      ],
      "execution_count": null,
      "outputs": []
    },
    {
      "cell_type": "markdown",
      "metadata": {
        "id": "QUTQuUvxSl_O",
        "colab_type": "text"
      },
      "source": [
        "<h2>Write a function in python that take dataframe as input and drop columns having Pearson correlation more than 0.85"
      ]
    },
    {
      "cell_type": "code",
      "metadata": {
        "id": "CzcKlSAPNO3t",
        "colab_type": "code",
        "colab": {}
      },
      "source": [
        "def correlation(dataset):\n",
        "    col_corr = set() # Set of all the names of deleted columns\n",
        "    corr_matrix = dataset.corr()\n",
        "    for i in range(len(corr_matrix.columns)):\n",
        "        for j in range(i):\n",
        "            if (corr_matrix.iloc[i, j] >= 0.85) and (corr_matrix.columns[j] not in col_corr):\n",
        "                colname = corr_matrix.columns[i] # getting the name of column\n",
        "                col_corr.add(colname)\n",
        "                if colname in dataset.columns:\n",
        "                    del dataset[colname] # deleting the column from the dataset\n",
        "\n",
        "    print(dataset)"
      ],
      "execution_count": null,
      "outputs": []
    },
    {
      "cell_type": "code",
      "metadata": {
        "id": "XHLIwj91O2GW",
        "colab_type": "code",
        "colab": {}
      },
      "source": [
        "df=pd.DataFrame({\"A\":[\"2019-01-01\", \"2019-05-03\", \"2019-07-03\"],\n",
        "                 \"B\":[\"2019-03-02\", \"2019-08-01\", \"2019-10-01\"] })"
      ],
      "execution_count": null,
      "outputs": []
    },
    {
      "cell_type": "code",
      "metadata": {
        "id": "XXgxoPfiO4ZI",
        "colab_type": "code",
        "colab": {}
      },
      "source": [
        "result = datefunc(df)"
      ],
      "execution_count": null,
      "outputs": []
    },
    {
      "cell_type": "code",
      "metadata": {
        "id": "jzHAClGVO9a4",
        "colab_type": "code",
        "colab": {
          "base_uri": "https://localhost:8080/",
          "height": 142
        },
        "outputId": "a227b82d-fe88-47d0-c1ba-66d11b7fb15e"
      },
      "source": [
        "result"
      ],
      "execution_count": null,
      "outputs": [
        {
          "output_type": "execute_result",
          "data": {
            "text/html": [
              "<div>\n",
              "<style scoped>\n",
              "    .dataframe tbody tr th:only-of-type {\n",
              "        vertical-align: middle;\n",
              "    }\n",
              "\n",
              "    .dataframe tbody tr th {\n",
              "        vertical-align: top;\n",
              "    }\n",
              "\n",
              "    .dataframe thead th {\n",
              "        text-align: right;\n",
              "    }\n",
              "</style>\n",
              "<table border=\"1\" class=\"dataframe\">\n",
              "  <thead>\n",
              "    <tr style=\"text-align: right;\">\n",
              "      <th></th>\n",
              "      <th>A</th>\n",
              "      <th>B</th>\n",
              "      <th>0-1</th>\n",
              "    </tr>\n",
              "  </thead>\n",
              "  <tbody>\n",
              "    <tr>\n",
              "      <th>0</th>\n",
              "      <td>2019-01-01</td>\n",
              "      <td>2019-03-02</td>\n",
              "      <td>-60</td>\n",
              "    </tr>\n",
              "    <tr>\n",
              "      <th>1</th>\n",
              "      <td>2019-05-03</td>\n",
              "      <td>2019-08-01</td>\n",
              "      <td>-90</td>\n",
              "    </tr>\n",
              "    <tr>\n",
              "      <th>2</th>\n",
              "      <td>2019-07-03</td>\n",
              "      <td>2019-10-01</td>\n",
              "      <td>-90</td>\n",
              "    </tr>\n",
              "  </tbody>\n",
              "</table>\n",
              "</div>"
            ],
            "text/plain": [
              "           A          B  0-1\n",
              "0 2019-01-01 2019-03-02  -60\n",
              "1 2019-05-03 2019-08-01  -90\n",
              "2 2019-07-03 2019-10-01  -90"
            ]
          },
          "metadata": {
            "tags": []
          },
          "execution_count": 6
        }
      ]
    }
  ]
}